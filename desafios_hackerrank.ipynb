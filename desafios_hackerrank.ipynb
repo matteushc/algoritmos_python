{
 "cells": [
  {
   "cell_type": "code",
   "execution_count": 27,
   "metadata": {},
   "outputs": [
    {
     "name": "stdout",
     "output_type": "stream",
     "text": [
      "15\n"
     ]
    }
   ],
   "source": [
    "# Subtract diagonal of square\n",
    "\n",
    "n = 3\n",
    "arr = []\n",
    "arr.append([11, 2, 4])\n",
    "arr.append([4, 5, 6])\n",
    "arr.append([10, 8, -12])\n",
    "\n",
    "sum_first_diagonal = sum(arr[i][i] for i in range(n))\n",
    "sum_second_diagonal = sum(arr[i][n-i-1] for i in range(n))\n",
    "\n",
    "\n",
    "print(sum_first_diagonal - sum_second_diagonal if sum_first_diagonal > sum_second_diagonal else sum_second_diagonal - sum_first_diagonal)"
   ]
  },
  {
   "cell_type": "code",
   "execution_count": 5,
   "metadata": {},
   "outputs": [
    {
     "name": "stdout",
     "output_type": "stream",
     "text": [
      "0.400000\n",
      "0.200000\n",
      "0.400000\n"
     ]
    }
   ],
   "source": [
    "\n",
    "arr = [0, 0, -1, 1, 1]\n",
    "n = 6\n",
    "if (n > 0 and n < 100):\n",
    "    result = [0] * 3\n",
    "    for x in arr:\n",
    "        if x >= -100 and x <= 100:\n",
    "            result[0] = result[0] + 1 if x > 0 else result[0] + 0\n",
    "            result[1] = result[1] + 1 if x < 0 else result[1] + 0\n",
    "            result[2] = result[2] + 1 if x == 0 else result[2] + 0\n",
    "\n",
    "    r = [\"%.6f\" % (x / len(arr)) for x in result] \n",
    "    for i in r:\n",
    "        print(i)"
   ]
  },
  {
   "cell_type": "code",
   "execution_count": 6,
   "metadata": {},
   "outputs": [
    {
     "name": "stdout",
     "output_type": "stream",
     "text": [
      "     #\n",
      "    ##\n",
      "   ###\n",
      "  ####\n",
      " #####\n",
      "######\n"
     ]
    }
   ],
   "source": [
    "n = 6\n",
    "for i in range(1, n+1):\n",
    "    print(' ' * (n-i) + ('#' * i))"
   ]
  },
  {
   "cell_type": "code",
   "execution_count": 21,
   "metadata": {},
   "outputs": [
    {
     "name": "stdout",
     "output_type": "stream",
     "text": [
      "10 14\n"
     ]
    }
   ],
   "source": [
    "arr = [1, 2, 3, 5, 4]\n",
    "\n",
    "arr.sort()\n",
    "\n",
    "minim = sum(arr[:-1])\n",
    "arr.sort(reverse = True)\n",
    "maxm = sum(arr[:-1])\n",
    "print(str(minim) + ' ' + str(maxm))\n"
   ]
  },
  {
   "cell_type": "code",
   "execution_count": 53,
   "metadata": {},
   "outputs": [],
   "source": [
    "def birthdayCakeCandles(arr):\n",
    "    #arr = [3, 2, 1, 3]\n",
    "    print(arr.count(max(arr)))"
   ]
  },
  {
   "cell_type": "code",
   "execution_count": 193,
   "metadata": {},
   "outputs": [
    {
     "name": "stdout",
     "output_type": "stream",
     "text": [
      "06:40:03\n"
     ]
    }
   ],
   "source": [
    "d = \"06:40:03AM\"\n",
    "p = d.split(\":\")\n",
    "if \"PM\" in p[2]:\n",
    "    r = int(p[0]) + 12 if int(p[0]) != 12 else int(p[0])\n",
    "    return \"%s:%s:%s\" %(r, p[1], p[2].replace(\"PM\", \"\"))\n",
    "else:\n",
    "    r = p[0] if int(p[0]) != 12 else \"00\"\n",
    "    return \"%s:%s:%s\" %(r, p[1], p[2].replace(\"AM\", \"\"))"
   ]
  },
  {
   "cell_type": "code",
   "execution_count": 227,
   "metadata": {},
   "outputs": [
    {
     "data": {
      "text/plain": [
       "[75, 67, 40, 33]"
      ]
     },
     "execution_count": 227,
     "metadata": {},
     "output_type": "execute_result"
    }
   ],
   "source": [
    "grades = [73,67,38,33]\n",
    "[((int(x/5)+1)*5) if ((int(x/5)+1)*5) - x < 3 and ((int(x/5)+1)*5) > 38 else x for x in grades]"
   ]
  },
  {
   "cell_type": "code",
   "execution_count": 22,
   "metadata": {},
   "outputs": [],
   "source": [
    "# Maximum path sum in a triangle.\n",
    "def sumPath(d, ind=0, accum=0):\n",
    "    accum += d[0][0]\n",
    "    for x in range(0, len(d)-1):\n",
    "        if d[x+1][ind] > d[x+1][ind+1]: \n",
    "            accum += d[x+1][ind]\n",
    "            ind = d[x+1].index(d[x+1][ind])\n",
    "        else :\n",
    "            accum += d[x+1][ind+1]\n",
    "            ind = d[x+1].index(d[x+1][ind+1])\n",
    "    return accum"
   ]
  },
  {
   "cell_type": "code",
   "execution_count": 23,
   "metadata": {},
   "outputs": [
    {
     "name": "stdout",
     "output_type": "stream",
     "text": [
      "32\n",
      "CPU times: user 365 µs, sys: 49 µs, total: 414 µs\n",
      "Wall time: 345 µs\n"
     ]
    }
   ],
   "source": [
    "d = [[3], [7, 4], [2, 4, 6], [8, 5, 9, 3], [10, 8, 9, 7, 4]]\n",
    "%time print(sumPath(d))"
   ]
  },
  {
   "cell_type": "code",
   "execution_count": 24,
   "metadata": {},
   "outputs": [],
   "source": [
    "# Maximum path sum in a triangle.\n",
    "\n",
    "def maxPathSum(tri, m, n): \n",
    "    for i in range(m-1, -1, -1): \n",
    "        for j in range(i+1): \n",
    "\n",
    "            if (tri[i+1][j] > tri[i+1][j+1]): \n",
    "                tri[i][j] += tri[i+1][j] \n",
    "            else: \n",
    "                tri[i][j] += tri[i+1][j+1] \n",
    "\n",
    "    return tri[0][0] "
   ]
  },
  {
   "cell_type": "code",
   "execution_count": 25,
   "metadata": {},
   "outputs": [
    {
     "name": "stdout",
     "output_type": "stream",
     "text": [
      "32\n",
      "CPU times: user 177 µs, sys: 0 ns, total: 177 µs\n",
      "Wall time: 128 µs\n"
     ]
    }
   ],
   "source": [
    "tri = [[3,0,0,0,0], [7, 4, 0, 0, 0], [2, 4, 6, 0, 0], [8, 5, 9, 3, 0], [10, 8, 9, 7, 4]]\n",
    "%time print(maxPathSum(tri, 4, 4)) "
   ]
  },
  {
   "cell_type": "code",
   "execution_count": 8,
   "metadata": {},
   "outputs": [
    {
     "name": "stdout",
     "output_type": "stream",
     "text": [
      "21\n"
     ]
    }
   ],
   "source": [
    "import itertools as it\n",
    "\n",
    "def formingMagicSquare(s):\n",
    "    \n",
    "    n = [p[o] for p in s for o in range(0,len(s))]\n",
    "    \n",
    "    value_comp = 15\n",
    "\n",
    "    list_op = [i for i in range(1, 10)]\n",
    "    perm_list = list(it.permutations(list_op, 3))\n",
    "    filtered_list = list(filter(lambda x: sum(x)==value_comp, perm_list))\n",
    "\n",
    "    all_combination_square = []\n",
    "    def generate_combinations(all_list, count, allsum, nlist=[]):\n",
    "\n",
    "        flat_list = [p[o] for p in nlist for o in range(0,len(p))]\n",
    "        columns = [sum(v) for v in zip(*nlist)]\n",
    "        \n",
    "        k = len(nlist)\n",
    "        sum_first_diagonal = sum(nlist[i][i] for i in range(k))\n",
    "        sum_second_diagonal = sum(nlist[i][k-i-1] for i in range(k))\n",
    "        \n",
    "\n",
    "        if count == 0 and len(set(flat_list)) == len(list_op) \\\n",
    "            and all(elem == value_comp for elem in columns) \\\n",
    "            and sum_first_diagonal == value_comp \\\n",
    "            and sum_second_diagonal == value_comp:\n",
    "                \n",
    "                all_combination_square.append(flat_list)\n",
    "        elif count != 0:\n",
    "            for l in range(0, len(all_list)):\n",
    "                nlist.append(all_list[l])\n",
    "\n",
    "                generate_combinations(all_list, count - 1, all_combination_square, nlist)\n",
    "\n",
    "                del nlist[-1]\n",
    "\n",
    "    generate_combinations(filtered_list, 3, all_combination_square)\n",
    "\n",
    "    a_sum = []\n",
    "    for l in all_combination_square:\n",
    "        a_sum.append(sum([abs(a - b) for a, b in zip(n, l)]))\n",
    "    return min(a_sum)\n",
    "\n",
    "s = [[2,9,8],[4,2,7],[5,6,7]]\n",
    "result = formingMagicSquare(s)\n",
    "print(result)"
   ]
  },
  {
   "cell_type": "code",
   "execution_count": 145,
   "metadata": {},
   "outputs": [],
   "source": [
    "class Accumulator: pass\n",
    "\n",
    "def foo():\n",
    "    # Create accumulator\n",
    "    acc = Accumulator()\n",
    "    acc.value = 0\n",
    "\n",
    "    # Define and call a recursive function that modifies accumulator\n",
    "    def bar(n):\n",
    "        if (n > 0):\n",
    "            for i in range(3):\n",
    "                bar(n-1)\n",
    "        acc.value = acc.value + 1\n",
    "    bar(5)\n",
    "\n",
    "    # Get accumulator\n",
    "    return acc.value\n",
    "\n",
    "#print(foo())"
   ]
  },
  {
   "cell_type": "code",
   "execution_count": 5,
   "metadata": {},
   "outputs": [
    {
     "data": {
      "text/plain": [
       "[83, 77]"
      ]
     },
     "execution_count": 5,
     "metadata": {},
     "output_type": "execute_result"
    }
   ],
   "source": [
    "grades = [73,67,38,33]\n",
    "[x + 10 for x in grades if x > 50]"
   ]
  }
 ],
 "metadata": {
  "kernelspec": {
   "display_name": "Python 3",
   "language": "python",
   "name": "python3"
  },
  "language_info": {
   "codemirror_mode": {
    "name": "ipython",
    "version": 3
   },
   "file_extension": ".py",
   "mimetype": "text/x-python",
   "name": "python",
   "nbconvert_exporter": "python",
   "pygments_lexer": "ipython3",
   "version": "3.7.3"
  }
 },
 "nbformat": 4,
 "nbformat_minor": 2
}
